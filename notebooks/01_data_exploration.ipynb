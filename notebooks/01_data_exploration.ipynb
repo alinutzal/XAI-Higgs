{
 "cells": [
  {
   "cell_type": "markdown",
   "metadata": {},
   "source": [
    "# Data Exploration: Higgs Boson Dataset\n",
    "\n",
    "This notebook explores the Higgs boson dataset and visualizes the features."
   ]
  },
  {
   "cell_type": "code",
   "execution_count": null,
   "metadata": {},
   "outputs": [],
   "source": [
    "import sys\n",
    "sys.path.append('../src')\n",
    "\n",
    "import numpy as np\n",
    "import matplotlib.pyplot as plt\n",
    "import seaborn as sns\n",
    "\n",
    "from data_loader import load_higgs_data, get_feature_names\n",
    "from visualization import plot_feature_distributions, plot_feature_correlation\n",
    "\n",
    "# Set style\n",
    "plt.style.use('seaborn-v0_8-darkgrid')\n",
    "sns.set_palette('husl')\n",
    "\n",
    "%matplotlib inline"
   ]
  },
  {
   "cell_type": "markdown",
   "metadata": {},
   "source": [
    "## Load Data\n",
    "\n",
    "Load the Higgs dataset. If the dataset file is not available, synthetic data will be generated."
   ]
  },
  {
   "cell_type": "code",
   "execution_count": null,
   "metadata": {},
   "outputs": [],
   "source": [
    "# Load data (will generate synthetic data if file not found)\n",
    "X_train, X_test, y_train, y_test = load_higgs_data(\n",
    "    data_path='../data/HIGGS.csv',\n",
    "    n_samples=50000,  # Use subset for faster processing\n",
    "    test_split=0.2,\n",
    "    random_seed=42\n",
    ")\n",
    "\n",
    "feature_names = get_feature_names()\n",
    "\n",
    "print(f\"Training samples: {len(X_train)}\")\n",
    "print(f\"Test samples: {len(X_test)}\")\n",
    "print(f\"Number of features: {X_train.shape[1]}\")"
   ]
  },
  {
   "cell_type": "markdown",
   "metadata": {},
   "source": [
    "## Dataset Statistics"
   ]
  },
  {
   "cell_type": "code",
   "execution_count": null,
   "metadata": {},
   "outputs": [],
   "source": [
    "print(\"Class Distribution:\")\n",
    "print(f\"  Training - Signal: {np.sum(y_train == 1)} ({np.mean(y_train)*100:.2f}%)\")\n",
    "print(f\"  Training - Background: {np.sum(y_train == 0)} ({(1-np.mean(y_train))*100:.2f}%)\")\n",
    "print(f\"\\n  Test - Signal: {np.sum(y_test == 1)} ({np.mean(y_test)*100:.2f}%)\")\n",
    "print(f\"  Test - Background: {np.sum(y_test == 0)} ({(1-np.mean(y_test))*100:.2f}%)\")"
   ]
  },
  {
   "cell_type": "markdown",
   "metadata": {},
   "source": [
    "## Feature Distributions\n",
    "\n",
    "Compare feature distributions between signal and background events."
   ]
  },
  {
   "cell_type": "code",
   "execution_count": null,
   "metadata": {},
   "outputs": [],
   "source": [
    "# Separate signal and background\n",
    "X_signal = X_train[y_train == 1]\n",
    "X_background = X_train[y_train == 0]\n",
    "\n",
    "print(f\"Signal samples: {len(X_signal)}\")\n",
    "print(f\"Background samples: {len(X_background)}\")"
   ]
  },
  {
   "cell_type": "code",
   "execution_count": null,
   "metadata": {},
   "outputs": [],
   "source": [
    "# Plot feature distributions for first 9 features\n",
    "plot_feature_distributions(\n",
    "    X_signal, \n",
    "    X_background, \n",
    "    feature_names, \n",
    "    n_features=9,\n",
    "    save_path='../figures/feature_distributions_1.png'\n",
    ")"
   ]
  },
  {
   "cell_type": "code",
   "execution_count": null,
   "metadata": {},
   "outputs": [],
   "source": [
    "# Plot feature distributions for next 9 features\n",
    "plot_feature_distributions(\n",
    "    X_signal[:, 9:18], \n",
    "    X_background[:, 9:18], \n",
    "    feature_names[9:18], \n",
    "    n_features=9,\n",
    "    save_path='../figures/feature_distributions_2.png'\n",
    ")"
   ]
  },
  {
   "cell_type": "markdown",
   "metadata": {},
   "source": [
    "## Feature Correlations"
   ]
  },
  {
   "cell_type": "code",
   "execution_count": null,
   "metadata": {},
   "outputs": [],
   "source": [
    "# Plot correlation matrix\n",
    "plot_feature_correlation(\n",
    "    X_train[:5000],  # Use subset for faster computation\n",
    "    feature_names,\n",
    "    save_path='../figures/feature_correlation.png'\n",
    ")"
   ]
  },
  {
   "cell_type": "markdown",
   "metadata": {},
   "source": [
    "## Feature Statistics"
   ]
  },
  {
   "cell_type": "code",
   "execution_count": null,
   "metadata": {},
   "outputs": [],
   "source": [
    "import pandas as pd\n",
    "\n",
    "# Create DataFrame for better visualization\n",
    "df_stats = pd.DataFrame({\n",
    "    'Feature': feature_names,\n",
    "    'Mean': X_train.mean(axis=0),\n",
    "    'Std': X_train.std(axis=0),\n",
    "    'Min': X_train.min(axis=0),\n",
    "    'Max': X_train.max(axis=0)\n",
    "})\n",
    "\n",
    "print(\"Feature Statistics:\")\n",
    "print(df_stats.to_string(index=False))"
   ]
  }
 ],
 "metadata": {
  "kernelspec": {
   "display_name": "Python 3",
   "language": "python",
   "name": "python3"
  },
  "language_info": {
   "codemirror_mode": {
    "name": "ipython",
    "version": 3
   },
   "file_extension": ".py",
   "mimetype": "text/x-python",
   "name": "python",
   "nbconvert_exporter": "python",
   "pygments_lexer": "ipython3",
   "version": "3.8.0"
  }
 },
 "nbformat": 4,
 "nbformat_minor": 4
}
