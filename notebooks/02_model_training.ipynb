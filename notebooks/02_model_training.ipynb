{
 "cells": [
  {
   "cell_type": "markdown",
   "metadata": {},
   "source": [
    "# Model Training: Higgs Boson Classification\n",
    "\n",
    "This notebook trains neural network models for Higgs boson classification."
   ]
  },
  {
   "cell_type": "code",
   "execution_count": null,
   "metadata": {},
   "outputs": [],
   "source": [
    "import sys\n",
    "sys.path.append('../src')\n",
    "\n",
    "import torch\n",
    "import numpy as np\n",
    "import matplotlib.pyplot as plt\n",
    "\n",
    "from data_loader import load_higgs_data, get_data_loaders\n",
    "from models import create_model\n",
    "from trainer import Trainer\n",
    "from visualization import plot_training_history, plot_roc_curve, plot_confusion_matrix, plot_prediction_distribution\n",
    "\n",
    "%matplotlib inline"
   ]
  },
  {
   "cell_type": "markdown",
   "metadata": {},
   "source": [
    "## Configuration"
   ]
  },
  {
   "cell_type": "code",
   "execution_count": null,
   "metadata": {},
   "outputs": [],
   "source": [
    "# Set device\n",
    "device = 'cuda' if torch.cuda.is_available() else 'cpu'\n",
    "print(f\"Using device: {device}\")\n",
    "\n",
    "# Set random seeds for reproducibility\n",
    "torch.manual_seed(42)\n",
    "np.random.seed(42)\n",
    "\n",
    "# Training configuration\n",
    "config = {\n",
    "    'batch_size': 128,\n",
    "    'learning_rate': 0.001,\n",
    "    'epochs': 50,\n",
    "    'early_stopping_patience': 10,\n",
    "    'model_type': 'simple'  # 'simple', 'standard', or 'deep'\n",
    "}"
   ]
  },
  {
   "cell_type": "markdown",
   "metadata": {},
   "source": [
    "## Load and Prepare Data"
   ]
  },
  {
   "cell_type": "code",
   "execution_count": null,
   "metadata": {},
   "outputs": [],
   "source": [
    "# Load data\n",
    "X_train, X_test, y_train, y_test = load_higgs_data(\n",
    "    data_path='../data/HIGGS.csv',\n",
    "    n_samples=50000,\n",
    "    test_split=0.2,\n",
    "    random_seed=42\n",
    ")\n",
    "\n",
    "# Create data loaders\n",
    "train_loader, val_loader, test_loader = get_data_loaders(\n",
    "    X_train, X_test, y_train, y_test,\n",
    "    batch_size=config['batch_size'],\n",
    "    val_split=0.1\n",
    ")\n",
    "\n",
    "print(f\"Training batches: {len(train_loader)}\")\n",
    "print(f\"Validation batches: {len(val_loader)}\")\n",
    "print(f\"Test batches: {len(test_loader)}\")"
   ]
  },
  {
   "cell_type": "markdown",
   "metadata": {},
   "source": [
    "## Create Model"
   ]
  },
  {
   "cell_type": "code",
   "execution_count": null,
   "metadata": {},
   "outputs": [],
   "source": [
    "# Create model\n",
    "input_dim = X_train.shape[1]\n",
    "model = create_model(\n",
    "    model_type=config['model_type'],\n",
    "    input_dim=input_dim\n",
    ")\n",
    "\n",
    "print(f\"Model: {config['model_type']}\")\n",
    "print(f\"Number of parameters: {sum(p.numel() for p in model.parameters())}\")\n",
    "print(f\"\\nModel architecture:\")\n",
    "print(model)"
   ]
  },
  {
   "cell_type": "markdown",
   "metadata": {},
   "source": [
    "## Train Model"
   ]
  },
  {
   "cell_type": "code",
   "execution_count": null,
   "metadata": {},
   "outputs": [],
   "source": [
    "# Create trainer\n",
    "trainer = Trainer(\n",
    "    model=model,\n",
    "    device=device,\n",
    "    learning_rate=config['learning_rate']\n",
    ")\n",
    "\n",
    "# Train\n",
    "history = trainer.train(\n",
    "    train_loader=train_loader,\n",
    "    val_loader=val_loader,\n",
    "    epochs=config['epochs'],\n",
    "    early_stopping_patience=config['early_stopping_patience'],\n",
    "    verbose=True\n",
    ")"
   ]
  },
  {
   "cell_type": "markdown",
   "metadata": {},
   "source": [
    "## Visualize Training History"
   ]
  },
  {
   "cell_type": "code",
   "execution_count": null,
   "metadata": {},
   "outputs": [],
   "source": [
    "plot_training_history(\n",
    "    history,\n",
    "    save_path='../figures/training_history.png'\n",
    ")"
   ]
  },
  {
   "cell_type": "markdown",
   "metadata": {},
   "source": [
    "## Evaluate on Test Set"
   ]
  },
  {
   "cell_type": "code",
   "execution_count": null,
   "metadata": {},
   "outputs": [],
   "source": [
    "# Evaluate\n",
    "metrics = trainer.evaluate(test_loader)\n",
    "\n",
    "print(\"Test Set Performance:\")\n",
    "print(f\"  Accuracy: {metrics['accuracy']:.4f}\")\n",
    "print(f\"  Precision: {metrics['precision']:.4f}\")\n",
    "print(f\"  Recall: {metrics['recall']:.4f}\")\n",
    "print(f\"  F1 Score: {metrics['f1_score']:.4f}\")\n",
    "print(f\"\\nConfusion Matrix:\")\n",
    "print(f\"  True Positives: {metrics['tp']}\")\n",
    "print(f\"  False Positives: {metrics['fp']}\")\n",
    "print(f\"  True Negatives: {metrics['tn']}\")\n",
    "print(f\"  False Negatives: {metrics['fn']}\")"
   ]
  },
  {
   "cell_type": "markdown",
   "metadata": {},
   "source": [
    "## Get Predictions"
   ]
  },
  {
   "cell_type": "code",
   "execution_count": null,
   "metadata": {},
   "outputs": [],
   "source": [
    "# Get predictions on test set\n",
    "model.eval()\n",
    "y_pred_probs = []\n",
    "y_pred_labels = []\n",
    "y_true_all = []\n",
    "\n",
    "with torch.no_grad():\n",
    "    for data, target in test_loader:\n",
    "        data = data.to(device)\n",
    "        outputs = model(data)\n",
    "        probs = outputs.cpu().numpy()\n",
    "        y_pred_probs.extend(probs)\n",
    "        y_pred_labels.extend((probs >= 0.5).astype(int))\n",
    "        y_true_all.extend(target.numpy())\n",
    "\n",
    "y_pred_probs = np.array(y_pred_probs).flatten()\n",
    "y_pred_labels = np.array(y_pred_labels).flatten()\n",
    "y_true_all = np.array(y_true_all).flatten()"
   ]
  },
  {
   "cell_type": "markdown",
   "metadata": {},
   "source": [
    "## ROC Curve"
   ]
  },
  {
   "cell_type": "code",
   "execution_count": null,
   "metadata": {},
   "outputs": [],
   "source": [
    "auc_score = plot_roc_curve(\n",
    "    y_true_all,\n",
    "    y_pred_probs,\n",
    "    save_path='../figures/roc_curve.png'\n",
    ")\n",
    "print(f\"AUC Score: {auc_score:.4f}\")"
   ]
  },
  {
   "cell_type": "markdown",
   "metadata": {},
   "source": [
    "## Confusion Matrix"
   ]
  },
  {
   "cell_type": "code",
   "execution_count": null,
   "metadata": {},
   "outputs": [],
   "source": [
    "plot_confusion_matrix(\n",
    "    y_true_all,\n",
    "    y_pred_labels,\n",
    "    save_path='../figures/confusion_matrix.png'\n",
    ")"
   ]
  },
  {
   "cell_type": "markdown",
   "metadata": {},
   "source": [
    "## Prediction Distribution"
   ]
  },
  {
   "cell_type": "code",
   "execution_count": null,
   "metadata": {},
   "outputs": [],
   "source": [
    "plot_prediction_distribution(\n",
    "    y_true_all,\n",
    "    y_pred_probs,\n",
    "    save_path='../figures/prediction_distribution.png'\n",
    ")"
   ]
  },
  {
   "cell_type": "markdown",
   "metadata": {},
   "source": [
    "## Save Model"
   ]
  },
  {
   "cell_type": "code",
   "execution_count": null,
   "metadata": {},
   "outputs": [],
   "source": [
    "# Save model\n",
    "model_path = f\"../models/higgs_classifier_{config['model_type']}.pth\"\n",
    "trainer.save_model(model_path)"
   ]
  }
 ],
 "metadata": {
  "kernelspec": {
   "display_name": "Python 3",
   "language": "python",
   "name": "python3"
  },
  "language_info": {
   "codemirror_mode": {
    "name": "ipython",
    "version": 3
   },
   "file_extension": ".py",
   "mimetype": "text/x-python",
   "name": "python",
   "nbconvert_exporter": "python",
   "pygments_lexer": "ipython3",
   "version": "3.8.0"
  }
 },
 "nbformat": 4,
 "nbformat_minor": 4
}
